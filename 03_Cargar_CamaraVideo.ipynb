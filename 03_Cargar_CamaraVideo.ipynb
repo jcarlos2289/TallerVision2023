{
 "cells": [
  {
   "cell_type": "markdown",
   "id": "717042c5-b6e4-4d8e-8bb7-d4ce166cb972",
   "metadata": {},
   "source": [
    "# Utilizar Camara \n",
    "# Cargar Video"
   ]
  },
  {
   "cell_type": "code",
   "execution_count": 2,
   "id": "ed497d43-e3f1-404e-b4ff-9ed848a4e1d8",
   "metadata": {},
   "outputs": [],
   "source": [
    "import numpy as np\n",
    "import cv2\n",
    "import sys\n",
    "\n",
    "cap = cv2.VideoCapture(0) #'img/bilbao.MP4'\n",
    "if cap is None:\n",
    "    sys.exit('Fallo al cargar video')\n",
    "\n",
    "while(cap.isOpened()):\n",
    "    ret, frame = cap.read()\n",
    "\n",
    "    if ret==True:\n",
    "       \n",
    "        cv2.imshow('frame',frame)\n",
    "        if cv2.waitKey(25) & 0xFF == ord('q'):\n",
    "            break\n",
    "    else:\n",
    "        break\n",
    "\n",
    "cap.release()\n",
    "cv2.destroyAllWindows()\n"
   ]
  },
  {
   "cell_type": "code",
   "execution_count": null,
   "id": "b55dbb52-b6f4-4961-944a-eec9aaa1794b",
   "metadata": {},
   "outputs": [],
   "source": []
  }
 ],
 "metadata": {
  "kernelspec": {
   "display_name": "Python 3 (ipykernel)",
   "language": "python",
   "name": "python3"
  },
  "language_info": {
   "codemirror_mode": {
    "name": "ipython",
    "version": 3
   },
   "file_extension": ".py",
   "mimetype": "text/x-python",
   "name": "python",
   "nbconvert_exporter": "python",
   "pygments_lexer": "ipython3",
   "version": "3.10.11"
  }
 },
 "nbformat": 4,
 "nbformat_minor": 5
}
