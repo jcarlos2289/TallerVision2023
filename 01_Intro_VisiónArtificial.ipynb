{
 "cells": [
  {
   "cell_type": "markdown",
   "metadata": {},
   "source": [
    "# Conceptos Básicos Visión Artificial\n",
    "## Introducción a OpenCV"
   ]
  },
  {
   "cell_type": "markdown",
   "metadata": {},
   "source": [
    "### Importaciones"
   ]
  },
  {
   "cell_type": "code",
   "execution_count": 1,
   "metadata": {
    "tags": []
   },
   "outputs": [],
   "source": [
    "import cv2"
   ]
  },
  {
   "cell_type": "markdown",
   "metadata": {},
   "source": [
    "### Cargar una Imagen "
   ]
  },
  {
   "cell_type": "code",
   "execution_count": 2,
   "metadata": {},
   "outputs": [
    {
     "name": "stdout",
     "output_type": "stream",
     "text": [
      "Dimensiones de la imagen - Alto: 4160, Ancho: 3120, Canales: 3\n",
      "Numero total píxeles: 38937600\n",
      "Tipo de datos de la imagen: uint8\n"
     ]
    }
   ],
   "source": [
    "# leer imagen\n",
    "im = cv2.imread('img/tower.jpg')\n",
    "\n",
    "#Dimensiones de la Imagen\n",
    "h,w,c  = im.shape #[:2]\n",
    "print(\"Dimensiones de la imagen - Alto: {}, Ancho: {}, Canales: {}\".format(h, w, c))\n",
    "\n",
    "# Numero total de Píxeles\n",
    "tot_pix = im.size\n",
    "print(\"Numero total píxeles: {}\".format(tot_pix))\n",
    "\n",
    "# Obtener el tipo de datos de la imagen\n",
    "image_dtype = im.dtype\n",
    "\n",
    "# Imprimir tipo de datos de la imagen:\n",
    "print(\"Tipo de datos de la imagen: {}\".format(image_dtype))\n"
   ]
  },
  {
   "cell_type": "markdown",
   "metadata": {},
   "source": [
    "## Cambiar el espacio de color"
   ]
  },
  {
   "cell_type": "code",
   "execution_count": 3,
   "metadata": {},
   "outputs": [],
   "source": [
    "#Crear una versión en escala de grises\n",
    "gray = cv2.cvtColor(im,cv2.COLOR_BGR2GRAY)"
   ]
  },
  {
   "cell_type": "markdown",
   "metadata": {},
   "source": [
    "## Mostrar Imagen con CV2"
   ]
  },
  {
   "cell_type": "code",
   "execution_count": 4,
   "metadata": {},
   "outputs": [],
   "source": [
    "# Mostrar imagen Original\n",
    "cv2.imshow(\"Imagen Orginal\", im)\n",
    "\n",
    "# Mostrar Imagen en Escalas de Grises\n",
    "cv2.imshow(\"Imagen en Escala de Grises\", gray)\n",
    "\n",
    "# cv2.waitKey()se establece la espera a un evento de teclado\n",
    "# Su argumento es el tiempo en milisegundos\n",
    "# Si alguna tecla se presiona en el tiempo definido el programa continua\n",
    "# Si se envia 0, se espera de forma infinita\n",
    "cv2.waitKey(0)\n",
    "# Para destruir todas las ventanas creadas\n",
    "cv2.destroyAllWindows()"
   ]
  },
  {
   "cell_type": "markdown",
   "metadata": {},
   "source": [
    "\n",
    "\n",
    "## Escalar una Imagen"
   ]
  },
  {
   "cell_type": "code",
   "execution_count": 5,
   "metadata": {},
   "outputs": [],
   "source": [
    "# Mostrar Imágenes definiendo un tamaño\n",
    "# cv2.imshow() muestra las imágenes en tamaño real\n",
    "# por lo cual en ocasiones es necesario modificar el tamaño \n",
    "# para perimitir que sean apreciables en la pantalla\n",
    "# esto se puede hacer utilizando la función resize\n",
    "\n",
    "# Nuevo Tamaño\n",
    "dsize = (int(w*0.250), int(h*0.250))\n",
    "\n",
    "# resize image\n",
    "gray_rz = cv2.resize(gray, dsize)\n",
    "im_rz = cv2.resize(im, dsize)\n",
    "cv2.imshow(\"Imagen en Escala de Grises Escalada\", gray_rz )\n",
    "cv2.imshow(\"Imagen Orginal Escalada\", im_rz)\n",
    "cv2.waitKey(0)\n",
    "# Para destruir todas las ventanas creadas\n",
    "cv2.destroyAllWindows()"
   ]
  },
  {
   "cell_type": "markdown",
   "metadata": {},
   "source": [
    "## Guardar una Imagen"
   ]
  },
  {
   "cell_type": "code",
   "execution_count": 6,
   "metadata": {},
   "outputs": [
    {
     "data": {
      "text/plain": [
       "False"
      ]
     },
     "execution_count": 6,
     "metadata": {},
     "output_type": "execute_result"
    }
   ],
   "source": [
    "# guardar imagen\n",
    "cv2.imwrite('out/gray.png',gray)\n",
    "cv2.imwrite('out/tower2.png',im_rz)"
   ]
  },
  {
   "cell_type": "markdown",
   "metadata": {},
   "source": [
    "## Obtener información de un pixel "
   ]
  },
  {
   "cell_type": "code",
   "execution_count": 7,
   "metadata": {},
   "outputs": [
    {
     "name": "stdout",
     "output_type": "stream",
     "text": [
      "Pixel  (6,40) - Rojo: 179, Verde: 175, Azul: 166\n",
      "Pixel  (6,40) - Azul: 166\n"
     ]
    }
   ],
   "source": [
    "# Es posible acceder a los valores de color de un pixel\n",
    "# Se deben especificar sus coordenadas\n",
    "# y se retorna una arreglo con los valores (Blue, Green, Red) \n",
    "(b, g, r) = im[6, 40]\n",
    "\n",
    "# Print the values:\n",
    "print(\"Pixel  (6,40) - Rojo: {}, Verde: {}, Azul: {}\".format(r, g, b))\n",
    "\n",
    "# Se puede también acceder de manera individual a un canal\n",
    "# B --> canal 0\n",
    "# G --> canal 1\n",
    "# R --> canal 2\n",
    "b = im[6, 40, 0]\n",
    "\n",
    "print(\"Pixel  (6,40) - Azul: {}\".format(b))"
   ]
  },
  {
   "cell_type": "markdown",
   "metadata": {},
   "source": [
    "## Modificaciones a Nivel de Pixel"
   ]
  },
  {
   "cell_type": "code",
   "execution_count": 8,
   "metadata": {},
   "outputs": [
    {
     "name": "stdout",
     "output_type": "stream",
     "text": [
      "Pixel  (6,40) - Rojo: 255, Verde: 0, Azul: 0\n"
     ]
    }
   ],
   "source": [
    "# Se pueden modificar el valor de los píxeles de la imagen\n",
    "# En este caso se pone el valor de un pixel en rojo \n",
    "# recordar usar el formato (b - g - r)\n",
    "\n",
    "im_rz[6, 40] = (0, 0, 255)\n",
    "\n",
    "# Get the value of the pixel (x=40, y=6) after modifying it\n",
    "(b, g, r) = im_rz[6, 40]\n",
    "\n",
    "# Print it:\n",
    "print(\"Pixel  (6,40) - Rojo: {}, Verde: {}, Azul: {}\".format(r, g, b))\n",
    "\n",
    "cv2.imshow(\"Modificación de Pixel\", im_rz)\n",
    "cv2.waitKey(0)\n",
    "# Para destruir todas las ventanas creadas\n",
    "cv2.destroyAllWindows()\n",
    "\n"
   ]
  },
  {
   "cell_type": "markdown",
   "metadata": {},
   "source": [
    "## Creando Parches en la imagen"
   ]
  },
  {
   "cell_type": "code",
   "execution_count": null,
   "metadata": {},
   "outputs": [],
   "source": [
    "# En ocaciones es necesario utilizar una región \n",
    "# de la imagen en lugar de solo un pixel\n",
    "# En este ejemplo utilizamos la esquina sup. izq de la imagen\n",
    "\n",
    "roi_izq_sup = im_rz[0:50, 0:50]\n",
    "\n",
    "# Mostramos esta region de interés (ROI):\n",
    "cv2.imshow(\"Esquina Superior Izquierda Original\", roi_izq_sup)\n",
    "cv2.waitKey(0)\n",
    "\n",
    "# Se copia este parche a otra zona de la imagen\n",
    "im_rz[20:70, 20:70] = roi_izq_sup\n",
    "\n",
    "# Mostrar imagen modificada\n",
    "cv2.imshow(\"Imagen modificada \", im_rz)\n",
    "cv2.waitKey(0)\n",
    "\n",
    "# Cambiar el color de una zona a azul\n",
    "im_rz[0:200, 0:50] = (255, 0, 0)\n",
    "\n",
    "# Mostrar imagen modificada\n",
    "cv2.imshow(\"Imagen Modificada\", im_rz)\n",
    "cv2.waitKey(0)\n",
    "\n",
    "cv2.destroyAllWindows()\n"
   ]
  }
 ],
 "metadata": {
  "kernelspec": {
   "display_name": "Python 3 (ipykernel)",
   "language": "python",
   "name": "python3"
  },
  "language_info": {
   "codemirror_mode": {
    "name": "ipython",
    "version": 3
   },
   "file_extension": ".py",
   "mimetype": "text/x-python",
   "name": "python",
   "nbconvert_exporter": "python",
   "pygments_lexer": "ipython3",
   "version": "3.10.11"
  },
  "vscode": {
   "interpreter": {
    "hash": "5dd0c637c1fb96891f1f93a246e95f6870710426daa6c226647e2a91f745d134"
   }
  }
 },
 "nbformat": 4,
 "nbformat_minor": 4
}
